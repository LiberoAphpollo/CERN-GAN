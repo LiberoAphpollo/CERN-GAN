{
 "cells": [
  {
   "cell_type": "markdown",
   "metadata": {},
   "source": [
    "### Generation of Synthetic Showers and its analysis  \n",
    "\n",
    "Let's generate EM showers with GANs, which has **already** trained\n",
    "\n",
    "### Prerequistes \n",
    "\n",
    "1. Download :\n",
    "   * **training** data: `/afs/desy.de/user/e/eren/public/gamma.hdf5`\n",
    "   * **weights** of trained neural network : `/afs/desy.de/user/e/eren/public/params_generator.hdf5`\n",
    "2. Make sure you installed keras : $ `conda install -c anaconda keras`\n",
    "3. Install scikit-learn : `pip install scikit-learn`\n",
    "4. Checkout the git repo : `https://github.com/EnginEren/CaloGAN.git` \n",
    "5. Install h5py : `pip install h5py`\n",
    "\n"
   ]
  },
  {
   "cell_type": "code",
   "execution_count": 2,
   "metadata": {},
   "outputs": [
    {
     "name": "stderr",
     "output_type": "stream",
     "text": [
      "Using TensorFlow backend.\n"
     ]
    }
   ],
   "source": [
    "import keras\n",
    "from keras.layers import Input, Lambda, Activation, AveragePooling2D, UpSampling2D\n",
    "from keras.models import Model\n",
    "from keras.layers.merge import multiply\n",
    "import keras.backend as K\n",
    "\n",
    "import matplotlib.pyplot as plt\n",
    "import numpy as np\n",
    "from matplotlib import colors\n",
    "from matplotlib.ticker import PercentFormatter\n",
    "from matplotlib import ticker, cm\n",
    "from matplotlib.colors import LogNorm"
   ]
  },
  {
   "cell_type": "markdown",
   "metadata": {},
   "source": [
    "### load training data"
   ]
  },
  {
   "cell_type": "code",
   "execution_count": 3,
   "metadata": {},
   "outputs": [],
   "source": [
    "import h5py\n",
    "g = h5py.File('path/to/gamma.hdf5', 'r')\n",
    "\n",
    "## Loading Geant4 images\n",
    "gamma = []\n",
    "for j in range(5): \n",
    "    gamma.append(g['layer_{}'.format(j)][:75000])\n",
    "\n",
    "\n",
    "vmin = [ gamma[k].mean(axis=0).min() for k in range(5)]\n",
    "vmax = [ gamma[k].mean(axis=0).max() for k in range(5) ]\n",
    "\n",
    "sizes = [gamma[0].shape[1], gamma[0].shape[2]] * 5\n",
    "\n",
    "real_images_gamma = [gamma[k] for k in range(5)]\n"
   ]
  },
  {
   "cell_type": "markdown",
   "metadata": {},
   "source": [
    "### Start generation"
   ]
  },
  {
   "cell_type": "code",
   "execution_count": null,
   "metadata": {},
   "outputs": [],
   "source": [
    "latent_size = 1024\n",
    "%cd /home/eren/CaloGAN/models/   ## change it to your path\n",
    "from architectures import build_generator, build_discriminator, sparse_softmax\n",
    "from ops import scale, inpainting_attention\n",
    "%cd -"
   ]
  },
  {
   "cell_type": "code",
   "execution_count": null,
   "metadata": {},
   "outputs": [],
   "source": [
    "# input placeholders\n",
    "latent = Input(shape=(latent_size, ), name='z') # noise\n",
    "input_energy = Input(shape=(1, ), dtype='float32') # requested energy of the particle shower\n",
    "generator_inputs = [latent, input_energy]\n",
    "\n",
    "# multiply the (scaled) energy into the latent space\n",
    "h = Lambda(lambda x: x[0] * x[1])([latent, scale(input_energy, 100)])\n",
    "\n",
    "# build 5 LAGAN-style generators (checkout out `build_generator` in architectures.py)\n",
    "img_layer = []\n",
    "for i in range(5):\n",
    "    img_layer.append(build_generator(h, 12, 12))\n",
    "        \n",
    "# inpainting\n",
    "zero2one = AveragePooling2D(pool_size=(1, 1))(UpSampling2D(size=(1, 1))(img_layer[0]))\n",
    "img_layer[1] = inpainting_attention(img_layer[1], zero2one)\n",
    "for j in range(1,4):\n",
    "    one2N = AveragePooling2D(pool_size=(1, 1))(img_layer[j])\n",
    "    img_layer[j+1] = inpainting_attention(img_layer[j+1], one2N)\n",
    "\n",
    "generator_outputs = []\n",
    "\n",
    "## outputs\n",
    "for k in range(5):\n",
    "    generator_outputs.append(Activation('relu')(img_layer[k]))\n",
    "        "
   ]
  },
  {
   "cell_type": "markdown",
   "metadata": {},
   "source": [
    "Now that the net is instantiated, we can use it to generate images. To do so, we need to provide inputs. In particular, the latent space expects some normally distributed noise, while the requested energy can be an array of your choice."
   ]
  },
  {
   "cell_type": "code",
   "execution_count": null,
   "metadata": {},
   "outputs": [],
   "source": [
    "# build the actual model\n",
    "generator = Model(generator_inputs, generator_outputs)\n",
    "# load trained weights\n",
    "generator.load_weights('path/to/weight')\n",
    "## noise\n",
    "noise = np.random.normal(0, 1, (1000, latent_size))\n",
    "## We would like to generate 50 GeV showers \n",
    "sampled_energy = np.random.uniform(50, 50, (1000, 1))\n"
   ]
  },
  {
   "cell_type": "markdown",
   "metadata": {},
   "source": [
    "Our net was trained with an uniform spectrum of energies between 10 and 100 GeV, so it should be safe to request any list of energies in that range. You could also try to request an energy outside of that range and see what happens."
   ]
  },
  {
   "cell_type": "code",
   "execution_count": null,
   "metadata": {},
   "outputs": [],
   "source": [
    "images = generator.predict([noise, sampled_energy], verbose=True)"
   ]
  },
  {
   "cell_type": "code",
   "execution_count": null,
   "metadata": {},
   "outputs": [],
   "source": [
    "# we need to multiply images by 1000 to match order of magnitude of generated images to real images\n",
    "## watch out for python3 changes: map method doesnt return list!\n",
    "images = list(map(lambda x: np.squeeze(x * 1000), images))"
   ]
  },
  {
   "cell_type": "markdown",
   "metadata": {},
   "source": [
    "### Task that would be usefull for the project:\n",
    "\n",
    "1. Generate 25, 50, 75, 100, 125, 150, 175, 200 GeV showers (10000 for each)\n",
    "2. Calculate $\\sigma_E / E$ as a function of $E_{vis}$:\n",
    "    * for G4\n",
    "    * for GAN\n",
    "    \n",
    "3. And plot them"
   ]
  },
  {
   "cell_type": "code",
   "execution_count": null,
   "metadata": {},
   "outputs": [],
   "source": []
  }
 ],
 "metadata": {
  "kernelspec": {
   "display_name": "Python 3",
   "language": "python",
   "name": "python3"
  },
  "language_info": {
   "codemirror_mode": {
    "name": "ipython",
    "version": 3
   },
   "file_extension": ".py",
   "mimetype": "text/x-python",
   "name": "python",
   "nbconvert_exporter": "python",
   "pygments_lexer": "ipython3",
   "version": "3.6.7"
  }
 },
 "nbformat": 4,
 "nbformat_minor": 2
}
